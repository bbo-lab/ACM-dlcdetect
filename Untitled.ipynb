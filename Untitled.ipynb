{
 "cells": [
  {
   "cell_type": "code",
   "execution_count": 20,
   "id": "c041cdcf-6437-44ff-9e73-f079035419b7",
   "metadata": {},
   "outputs": [],
   "source": [
    "import os\n",
    "import sys\n",
    "import numpy as np"
   ]
  },
  {
   "cell_type": "code",
   "execution_count": 11,
   "id": "64e4091f-9a84-4777-a4ba-52bcba3a9969",
   "metadata": {},
   "outputs": [],
   "source": [
    "import imageio\n",
    "from ccvtools import rawio"
   ]
  },
  {
   "cell_type": "code",
   "execution_count": 31,
   "id": "0e000553-26ab-4d3e-b344-682c30362e05",
   "metadata": {},
   "outputs": [],
   "source": [
    "import matplotlib.pyplot as plt\n",
    "%matplotlib widget"
   ]
  },
  {
   "cell_type": "code",
   "execution_count": 2,
   "id": "2aa22423-363d-4edd-b65c-3662cc307a25",
   "metadata": {},
   "outputs": [
    {
     "ename": "AttributeError",
     "evalue": "module 'os' has no attribute 'add_path'",
     "output_type": "error",
     "traceback": [
      "\u001b[0;31m---------------------------------------------------------------------------\u001b[0m",
      "\u001b[0;31mAttributeError\u001b[0m                            Traceback (most recent call last)",
      "\u001b[0;32m<ipython-input-2-632259ca107e>\u001b[0m in \u001b[0;36m<module>\u001b[0;34m\u001b[0m\n\u001b[0;32m----> 1\u001b[0;31m \u001b[0mos\u001b[0m\u001b[0;34m.\u001b[0m\u001b[0madd_path\u001b[0m\u001b[0;34m(\u001b[0m\u001b[0;36m0\u001b[0m\u001b[0;34m,\u001b[0m\u001b[0;34m'example'\u001b[0m\u001b[0;34m)\u001b[0m\u001b[0;34m\u001b[0m\u001b[0;34m\u001b[0m\u001b[0m\n\u001b[0m",
      "\u001b[0;31mAttributeError\u001b[0m: module 'os' has no attribute 'add_path'"
     ]
    }
   ],
   "source": [
    "os.add_path(0,'example')"
   ]
  },
  {
   "cell_type": "code",
   "execution_count": 8,
   "id": "831fd8dd-0b93-4ce7-9512-a331b8475944",
   "metadata": {},
   "outputs": [],
   "source": [
    "input_path = os.path.expanduser('~/code/ACM-dlcdetect/example')\n",
    "sys.path.insert(0,input_path)"
   ]
  },
  {
   "cell_type": "code",
   "execution_count": 9,
   "id": "512b16bf-8a4d-42af-96fa-9d7aad1503a2",
   "metadata": {},
   "outputs": [],
   "source": [
    "import config as cfg"
   ]
  },
  {
   "cell_type": "code",
   "execution_count": 42,
   "id": "8cffc5de-730e-44e9-9fda-e2a11395fb92",
   "metadata": {},
   "outputs": [],
   "source": [
    "mask_para = cfg.mask_para\n",
    "noise_threshold = cfg.noise_threshold\n",
    "mask_para_offset = 0\n",
    "i_background_std = 5"
   ]
  },
  {
   "cell_type": "code",
   "execution_count": 16,
   "id": "89639373-3b89-40ef-8e75-ce17783dddc7",
   "metadata": {},
   "outputs": [],
   "source": [
    "i_reader = imageio.get_reader(\"file:///media/nfs/bbo3102/storage/bulk/pose_B.EG.1.09/experiments/20210511_table_4/cam1_20210511_table_40.ccv\")"
   ]
  },
  {
   "cell_type": "code",
   "execution_count": 37,
   "id": "4a6aa5c8-a2f2-49a5-8cc2-70ea9de15cb2",
   "metadata": {},
   "outputs": [],
   "source": [
    "i_frame = 93600\n",
    "i_cam = 0"
   ]
  },
  {
   "cell_type": "code",
   "execution_count": 18,
   "id": "24150fbd-9681-4703-b07e-325af881878d",
   "metadata": {},
   "outputs": [],
   "source": [
    "img = i_reader.get_data(i_frame)\n",
    "img0 = i_reader.get_data(i_frame - round(0.125*cfg.frame_rate)) "
   ]
  },
  {
   "cell_type": "code",
   "execution_count": 25,
   "id": "aa6386eb-3053-495d-abe0-1355296d96d5",
   "metadata": {},
   "outputs": [],
   "source": [
    "img_bg = img.astype(np.float64) - img0.astype(np.float64)\n",
    "yRes, xRes = np.shape(img_bg)\n",
    "    \n",
    "mask_bg = (np.abs(img_bg) <= (noise_threshold * i_background_std))\n",
    "img_mask = np.copy(img)\n",
    "img_mask[mask_bg] = 0"
   ]
  },
  {
   "cell_type": "code",
   "execution_count": 36,
   "id": "1f7802ef-7865-4f4f-bb34-f9d93bb4ca98",
   "metadata": {},
   "outputs": [
    {
     "data": {
      "application/vnd.jupyter.widget-view+json": {
       "model_id": "40e969fc92724eea9a81c12988d38a46",
       "version_major": 2,
       "version_minor": 0
      },
      "text/plain": [
       "Canvas(toolbar=Toolbar(toolitems=[('Home', 'Reset original view', 'home', 'home'), ('Back', 'Back to  previous…"
      ]
     },
     "metadata": {},
     "output_type": "display_data"
    },
    {
     "data": {
      "text/plain": [
       "<matplotlib.image.AxesImage at 0x7fcb385ca050>"
      ]
     },
     "execution_count": 36,
     "metadata": {},
     "output_type": "execute_result"
    }
   ],
   "source": [
    "plt.figure()\n",
    "plt.imshow(img_mask)"
   ]
  },
  {
   "cell_type": "code",
   "execution_count": 53,
   "id": "6d9f8384-3569-4306-a4d4-717a465f587c",
   "metadata": {},
   "outputs": [],
   "source": [
    "if (len(mask_para) > 0):\n",
    "    mask = np.zeros_like(img_mask, dtype=bool)\n",
    "    index_x = np.arange(xRes, dtype=np.int64)\n",
    "    index_y = np.arange(yRes, dtype=np.int64)\n",
    "    X, Y = np.meshgrid(index_x, index_y)\n",
    "    nMask = len(mask_para[i_cam])\n",
    "    for i_mask in range(nMask):\n",
    "        x1 = mask_para[i_cam][i_mask][0]\n",
    "        y1 = mask_para[i_cam][i_mask][1]\n",
    "        x2 = mask_para[i_cam][i_mask][2]\n",
    "        y2 = mask_para[i_cam][i_mask][3]\n",
    "        up_down = mask_para[i_cam][i_mask][4]\n",
    "        #\n",
    "        m = (y2 - y1) / (x2 - x1)\n",
    "        n = y1 - m * x1 \n",
    "        val = m * X + n\n",
    "        if (up_down == 'up'):\n",
    "            mask = (Y <= val - mask_para_offset)\n",
    "        elif (up_down == 'down'):\n",
    "            mask = (Y >= val + mask_para_offset)\n",
    "        else:\n",
    "            print('ERROR: provide correct masking parameters')\n",
    "            raise\n",
    "        img_mask[mask] = 0.0"
   ]
  },
  {
   "cell_type": "code",
   "execution_count": 54,
   "id": "3c562947-f789-4e1a-a10e-60f4dbc3de5b",
   "metadata": {},
   "outputs": [
    {
     "data": {
      "application/vnd.jupyter.widget-view+json": {
       "model_id": "fc3fa40ed7d2459abebe0da73cb7c5bb",
       "version_major": 2,
       "version_minor": 0
      },
      "text/plain": [
       "Canvas(toolbar=Toolbar(toolitems=[('Home', 'Reset original view', 'home', 'home'), ('Back', 'Back to  previous…"
      ]
     },
     "metadata": {},
     "output_type": "display_data"
    },
    {
     "data": {
      "text/plain": [
       "<matplotlib.image.AxesImage at 0x7fcb383ea850>"
      ]
     },
     "execution_count": 54,
     "metadata": {},
     "output_type": "execute_result"
    }
   ],
   "source": [
    "plt.figure()\n",
    "plt.imshow(mask)"
   ]
  },
  {
   "cell_type": "code",
   "execution_count": 52,
   "id": "a05ccdaa-6c28-43c0-a5d6-c9d1c2264c48",
   "metadata": {},
   "outputs": [],
   "source": [
    "mask_para[i_cam][i_mask] = [1180, 1024, 1280, 924, 'down']"
   ]
  },
  {
   "cell_type": "code",
   "execution_count": null,
   "id": "57200731-be04-425a-84a9-eb89cc809657",
   "metadata": {},
   "outputs": [],
   "source": []
  }
 ],
 "metadata": {
  "kernelspec": {
   "display_name": "Python 3",
   "language": "python",
   "name": "python3"
  },
  "language_info": {
   "codemirror_mode": {
    "name": "ipython",
    "version": 3
   },
   "file_extension": ".py",
   "mimetype": "text/x-python",
   "name": "python",
   "nbconvert_exporter": "python",
   "pygments_lexer": "ipython3",
   "version": "3.7.6"
  }
 },
 "nbformat": 4,
 "nbformat_minor": 5
}
